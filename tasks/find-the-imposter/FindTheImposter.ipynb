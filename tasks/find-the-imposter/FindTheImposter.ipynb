{
  "cells": [
    {
      "cell_type": "markdown",
      "metadata": {
        "id": "70gejMbDYumy"
      },
      "source": [
        "# Final Project of Introduction to Bioinformatics\n",
        "\n",
        "## Find The Imposter - Deciphering Mysterious Sequences\n",
        "\n",
        "#### TA: Javad Razi (j.razi@outlook.com)"
      ]
    },
    {
      "cell_type": "markdown",
      "metadata": {
        "id": "CgpHOevxYum6"
      },
      "source": [
        "## Project Description: The Genomic Detective - Delving into Avian DNA with Galaxy\n",
        "\n",
        "### Overview\n",
        "\n",
        "Welcome to an exploratory journey into the world of bioinformatics, where we will delve into the DNA of flying species. This project presents a unique opportunity to unravel a genomic mystery using Galaxy, a sophisticated yet user-friendly bioinformatics platform. Your mission is to assemble a genome from short-read sequences, revealing insights into a specific DNA sequence found in various avian species. Along the way, you'll learn to navigate the complexities of genome assembly and conduct detailed BLAST searches, piecing together a puzzle millions of years in the making.\n",
        "\n",
        "### Objectives and Workflow\n",
        "\n",
        "1. **Introduction and Setup with Galaxy:**\n",
        "   - Start by exploring the Galaxy platform, designed for bioinformatics analysis. You can find a comprehensive introduction and a step-by-step guide on how to use Galaxy, including how to set up your work environment and get data into Galaxy, at the [Galaxy Project Training Network](https://training.galaxyproject.org/). This resource provides a hands-on introduction to Genomics and Galaxy, covering basic aspects like creating a new history and using the Get Data toolbox.\n",
        "\n",
        "2. **Genome Assembly:**\n",
        "   - For learning about genome assembly methods, the [Galaxy Project Training Network](https://training.galaxyproject.org/) offers a variety of resources and guides. This site provides access to a wide range of learning materials, helping users to understand the intricacies of genome assembly within the Galaxy platform.\n",
        "\n",
        "3. **Performing BLAST Searches:**\n",
        "   - To understand how to perform BLAST searches using Galaxy, the NCBI BLAST User Guide remains a crucial resource. You can access it at [NCBI's BLAST User Guide](https://www.ncbi.nlm.nih.gov/books/NBK279690/). This guide offers detailed instructions and insights into using BLAST for sequence comparison and analysis.\n",
        "\n",
        "4. **Comparative Genomics and Analysis:**\n",
        "   - Compare your findings against existing genomic data. This comparative analysis will help you shed light on the unique aspects of your assembled sequence and its significance in avian genetics.\n",
        "\n",
        "### Specific Deliverables\n",
        "\n",
        "- **Complete Code:** Submit all the code you used for assembling the genome, performing BLAST searches, and further analysis. Ensure your code is well-commented and organized for clarity.\n",
        "- **Assembled Genome Fasta File:** Provide the fasta file of the assembled genome. This should be the direct output of your assembly process.\n",
        "- **BLAST Results CSV File:** Include a CSV file with the results from your BLAST searches. This file should contain detailed information about any genomic matches found.\n",
        "- **Detailed Interpretation:** At the end of your notebook, include a thorough interpretation of your findings. Discuss the significance of the sequence within the avian genome, any similarities or differences with sequences in other species, and the potential implications of these results. Your interpretation should be grounded in the data analysis conducted."
      ]
    },
    {
      "cell_type": "code",
      "execution_count": 1,
      "metadata": {
        "colab": {
          "base_uri": "https://localhost:8080/"
        },
        "id": "8wHTj7YOYum9",
        "outputId": "ff3e29c6-ed3d-4a40-8c37-51d1cb7707a7"
      },
      "outputs": [
        {
          "output_type": "stream",
          "name": "stdout",
          "text": [
            "Requirement already satisfied: setuptools in /usr/local/lib/python3.10/dist-packages (67.7.2)\n"
          ]
        }
      ],
      "source": [
        "pip install setuptools"
      ]
    },
    {
      "cell_type": "code",
      "execution_count": 2,
      "metadata": {
        "colab": {
          "base_uri": "https://localhost:8080/"
        },
        "id": "dXuLUm2XYunC",
        "outputId": "575d33e6-aa8d-4cd4-c245-76bea844c808"
      },
      "outputs": [
        {
          "output_type": "stream",
          "name": "stdout",
          "text": [
            "bioblend is NOT installed\n",
            "bioblend was successfully installed.\n",
            "biopython is NOT installed\n",
            "biopython was successfully installed.\n",
            "pandas (1.5.3) is installed\n"
          ]
        }
      ],
      "source": [
        "import sys\n",
        "import subprocess\n",
        "import pkg_resources\n",
        "\n",
        "def install(package):\n",
        "    subprocess.check_call([sys.executable, \"-m\", \"pip\", \"install\", package])\n",
        "\n",
        "REQUIRED_PACKAGES = [\n",
        "    'bioblend',\n",
        "    'biopython',\n",
        "    'pandas'\n",
        "]\n",
        "\n",
        "for package in REQUIRED_PACKAGES:\n",
        "    try:\n",
        "        dist = pkg_resources.get_distribution(package)\n",
        "        print('{} ({}) is installed'.format(dist.key, dist.version))\n",
        "    except pkg_resources.DistributionNotFound:\n",
        "        print('{} is NOT installed'.format(package))\n",
        "        install(package)\n",
        "        print('{} was successfully installed.'.format(package))"
      ]
    },
    {
      "cell_type": "markdown",
      "metadata": {
        "id": "W6AVyr7oYunD"
      },
      "source": [
        "## Part 1: Assembling Using Galaxy\n",
        "\n",
        "#### Option 1: Python Notebook\n",
        "\n",
        "Finish this section of notebook to assemble a genome from a fasta file with short-read sequences.\n",
        "\n",
        "#### Option 2: Galaxy Web Interface\n",
        "\n",
        "Alternatively, you can use the Galaxy web interface at usegalaxy.org to complete the assembly. This approach allows you to experience the ease and efficiency of Galaxy's web-based tools.\n"
      ]
    },
    {
      "cell_type": "code",
      "source": [
        "def read_fasta(file_path):\n",
        "    sequences = []\n",
        "    with open(file_path, 'r') as file:\n",
        "        current_sequence = ''\n",
        "        for line in file:\n",
        "            line = line.strip()\n",
        "            if line.startswith('>'):\n",
        "                if current_sequence:\n",
        "                    sequences.append(current_sequence)\n",
        "                current_sequence = ''\n",
        "            else:\n",
        "                current_sequence += line\n",
        "        if current_sequence:\n",
        "            sequences.append(current_sequence)\n",
        "    return sequences\n"
      ],
      "metadata": {
        "id": "lNF3h9wHfDG4"
      },
      "execution_count": 5,
      "outputs": []
    },
    {
      "cell_type": "markdown",
      "metadata": {
        "id": "Odw3YzBFYunL"
      },
      "source": [
        "### Part 2: Using BLAST to Query The Assembled Sequence\n",
        "\n",
        "In this part of the notebook, you will utilize the NCBI BLAST API to analyze the genome sequence you've assembled. This involves integrating the API into your notebook, submitting your sequence for BLAST querying, and then meticulously examining the results. Your focus will be on identifying similarities or unique traits in the sequence compared to others in the NCBI database, particularly exploring its relationship with known sequences in various species. This step is crucial for understanding the evolutionary and biological significance of your assembled genome.\n",
        "\n",
        "**Note**: Unlike the previous section, for this one, you must deliver the full code in the notebook. Doing this part using website will not be graded."
      ]
    },
    {
      "cell_type": "code",
      "execution_count": null,
      "metadata": {
        "id": "7Q5boQ23YunM"
      },
      "outputs": [],
      "source": [
        "# Import necessary libraries\n",
        "from Bio.Blast import NCBIWWW\n",
        "from Bio.Blast import NCBIXML\n",
        "from collections import defaultdict\n",
        "\n"
      ]
    },
    {
      "cell_type": "code",
      "execution_count": null,
      "metadata": {
        "id": "MrEhWFhSYunN"
      },
      "outputs": [],
      "source": [
        "# Load the assembled genome\n",
        "with open('./outputs/assembled_genome.fasta', 'r') as file:\n",
        "    assembled_genome = file.read()\n",
        "\n",
        "assembled_genome"
      ]
    },
    {
      "cell_type": "code",
      "execution_count": null,
      "metadata": {
        "id": "qx67eRvBYunN"
      },
      "outputs": [],
      "source": [
        "from Bio.Blast import NCBIWWW\n",
        "\n",
        "# Perform the BLAST query, filtering for eukaryotes\n",
        "\n",
        "### TODO ###\n",
        "result_handle = NCBIWWW.qblast(program=None,\n",
        "                               database=None,\n",
        "                               sequence=None,\n",
        "                               entrez_query=None, # Only filter Eucaryotes. Hint: You can do this by giving their taxonomy id.\n",
        "                               hitlist_size=100,\n",
        "                               word_size=16)\n",
        "### TODO ###\n"
      ]
    },
    {
      "cell_type": "code",
      "execution_count": null,
      "metadata": {
        "id": "lYj9EcMuYunO"
      },
      "outputs": [],
      "source": [
        "from Bio.Blast import NCBIXML\n",
        "\n",
        "blast_records = NCBIXML.parse(result_handle)\n",
        "\n",
        "blast_records"
      ]
    },
    {
      "cell_type": "code",
      "execution_count": null,
      "metadata": {
        "id": "CTUzVh_VYunP"
      },
      "outputs": [],
      "source": [
        "import pandas as pd\n",
        "from Bio import Entrez\n",
        "\n",
        "# Set your email here for Entrez\n",
        "Entrez.email = \"your.email@example.com\"\n",
        "\n",
        "def fetch_taxonomy_info(accession):\n",
        "    \"\"\"\n",
        "    Fetch taxonomy information using Entrez for a given accession number.\n",
        "    \"\"\"\n",
        "    handle = Entrez.efetch(db=\"nucleotide\", id=accession, retmode=\"xml\")\n",
        "    records = Entrez.read(handle)\n",
        "\n",
        "    ### TODO ###\n",
        "\n",
        "    taxonomy = None\n",
        "    species = None\n",
        "\n",
        "    ### TODO ###\n",
        "\n",
        "    return taxonomy, species\n",
        "\n",
        "\n",
        "def parse_blast_results():\n",
        "    \"\"\"\n",
        "    Parse BLAST results and extract relevant information including taxonomy.\n",
        "    \"\"\"\n",
        "    blast_results = []\n",
        "\n",
        "    for record in blast_records:\n",
        "        for alignment in record.alignments:\n",
        "            accession = alignment.accession\n",
        "            taxonomy, species = fetch_taxonomy_info(accession)\n",
        "            for hsp in alignment.hsps:\n",
        "                # These fields are required in your submission\n",
        "                blast_results.append({\n",
        "                    'query_id': record.query_id,\n",
        "                    'alignment_title': alignment.title,\n",
        "                    'e_value': hsp.expect,\n",
        "                    'identity': hsp.identities,\n",
        "                    'accession': accession,\n",
        "                    'taxonomy': taxonomy,\n",
        "                    'species': species\n",
        "                })\n",
        "    return blast_results\n",
        "\n",
        "\n",
        "blast_results = parse_blast_results()\n",
        "df = pd.DataFrame(blast_results)\n",
        "df.to_csv('./outputs/blast_results_with_taxonomy.csv', index=False)\n",
        "\n",
        "df.head()"
      ]
    },
    {
      "cell_type": "markdown",
      "metadata": {
        "id": "z7aTGiyAYunP"
      },
      "source": [
        "## Analysis of The Results\n",
        "\n",
        "### Drawing Your Own Conclusions\n",
        "\n",
        "Now that you have completed the BLAST search, a fascinating part of your journey begins – interpreting the data. This stage is where your critical thinking and creativity come into play. From now on, the rest of the notebook will be about whatever you want it to be. Any path that leads to meaningful insights about the data and provides a solid conclusion for the task is acceptable. Let's explore some possible directions:\n",
        "\n",
        "1. **Species-Specific Patterns:** Examine if the sequence is found exclusively or predominantly in certain species. What could this suggest about its evolution and adaptation? While the focus is not on finding a 'correct' answer, pondering this aspect can lead to interesting hypotheses about species-specific interactions.\n",
        "\n",
        "2. **Functional Insights:** Reflect on the potential roles this sequence might play within the genomes where it's found. Could it be integral to certain biological functions, or a legacy of ancient genomic events?\n",
        "\n",
        "3. **Comparative Genomics:** Compare your findings with sequences in other species. Notice any striking similarities or differences? These comparisons could shed light on the sequence's evolutionary journey.\n",
        "\n",
        "4. **Ecological and Environmental Context:** Consider the ecological and environmental factors that might influence the distribution and evolution of this sequence. How might habitat or lifestyle of the species play a role in its presence or absence?\n",
        "\n",
        "### Additional Tips and Encouragement\n",
        "\n",
        "This project is more about the learning journey and less about achieving perfect results. Here are some additional pointers:\n",
        "\n",
        "1. **Deep Dives:** Encourage yourself to explore the data thoroughly. Use various bioinformatics tools to gain a holistic understanding.\n",
        "\n",
        "2. **Creative Visualization:** Craft visual representations of your analysis. Effective use of charts or infographics can provide insightful perspectives.\n",
        "\n",
        "3. **Open-Ended Exploration:** Feel free to extend your analysis in directions you find intriguing. This could include phylogenetic studies or exploring the ecological aspects of the sequence.\n",
        "\n",
        "Remember, this project is designed to be a learning experience. We don't expect you to uncover all the answers but rather to engage thoughtfully with the data and enjoy the process of discovery."
      ]
    },
    {
      "cell_type": "code",
      "execution_count": null,
      "metadata": {
        "id": "kti1umkeYunQ"
      },
      "outputs": [],
      "source": [
        "### TODO ###"
      ]
    }
  ],
  "metadata": {
    "kernelspec": {
      "display_name": "Python 3",
      "language": "python",
      "name": "python3"
    },
    "language_info": {
      "codemirror_mode": {
        "name": "ipython",
        "version": 3
      },
      "file_extension": ".py",
      "mimetype": "text/x-python",
      "name": "python",
      "nbconvert_exporter": "python",
      "pygments_lexer": "ipython3",
      "version": "3.12.1"
    },
    "colab": {
      "provenance": []
    }
  },
  "nbformat": 4,
  "nbformat_minor": 0
}